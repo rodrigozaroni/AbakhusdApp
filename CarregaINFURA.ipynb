{
  "nbformat": 4,
  "nbformat_minor": 0,
  "metadata": {
    "colab": {
      "provenance": [],
      "authorship_tag": "ABX9TyM6gqS70EuomyF/OttZ4i3j",
      "include_colab_link": true
    },
    "kernelspec": {
      "name": "python3",
      "display_name": "Python 3"
    },
    "language_info": {
      "name": "python"
    }
  },
  "cells": [
    {
      "cell_type": "markdown",
      "metadata": {
        "id": "view-in-github",
        "colab_type": "text"
      },
      "source": [
        "<a href=\"https://colab.research.google.com/github/rodrigozaroni/AbakhusdApp/blob/main/CarregaINFURA.ipynb\" target=\"_parent\"><img src=\"https://colab.research.google.com/assets/colab-badge.svg\" alt=\"Open In Colab\"/></a>"
      ]
    },
    {
      "cell_type": "code",
      "execution_count": null,
      "metadata": {
        "id": "1mLA0b-PcBB3"
      },
      "outputs": [],
      "source": [
        "import requests\n",
        "\n",
        "projectId = \"e08de63c7fd74c54bd8c07d6f9feb937\"\n",
        "projectSecret = \"ghJ5nFYaE1wNCAnNNfugtPMeNg3ppaM5L63slNIORLB1/trO4CQarQ\"\n",
        "endpoint = \"https://sepolia.infura.io/v3/e08de63c7fd74c54bd8c07d6f9feb937\"\n",
        "\n",
        "### CREATE AN ARRAY OF TEST FILES ###\n",
        "files = {\n",
        "    'file': 'imagem.png'\n",
        "}\n",
        "\n",
        "### ADD FILE TO IPFS AND SAVE THE HASH ###\n",
        "response1 = requests.post(endpoint + '/api/v0/add', files=files, auth=(projectId, projectSecret))\n",
        "print(response1)\n",
        "hash = response1.text.split(\",\")[1].split(\":\")[1].replace('\"','')\n",
        "print(hash)\n",
        "\n",
        "### READ FILE WITH HASH ###\n",
        "params = {\n",
        "    'arg': hash\n",
        "}\n",
        "response2 = requests.post(endpoint + '/api/v0/cat', params=params, auth=(projectId, projectSecret))\n",
        "print(response2)\n",
        "print(response2.text)\n",
        "\n",
        "### REMOVE OBJECT WITH PIN/RM ###\n",
        "response3 = requests.post(endpoint + '/api/v0/pin/rm', params=params, auth=(projectId, projectSecret))\n",
        "print(response3.json())"
      ]
    }
  ]
}